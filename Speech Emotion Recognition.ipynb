{
 "cells": [
  {
   "cell_type": "code",
   "execution_count": 2,
   "metadata": {},
   "outputs": [
    {
     "name": "stdout",
     "output_type": "stream",
     "text": [
      "Shape of audio data array: (7442,)\n"
     ]
    },
    {
     "name": "stderr",
     "output_type": "stream",
     "text": [
      "C:\\Users\\usefw\\AppData\\Local\\Temp\\ipykernel_9076\\968331460.py:29: VisibleDeprecationWarning: Creating an ndarray from ragged nested sequences (which is a list-or-tuple of lists-or-tuples-or ndarrays with different lengths or shapes) is deprecated. If you meant to do this, you must specify 'dtype=object' when creating the ndarray.\n",
      "  audio_data_array = np.array(audio_data_array)\n"
     ]
    }
   ],
   "source": [
    "import os\n",
    "import wave\n",
    "import numpy as np\n",
    "\n",
    "folder_path = \"Crema\"  # Specify the folder path\n",
    "\n",
    "# Get a list of all .wav files in the folder\n",
    "wav_files = [file for file in os.listdir(folder_path) if file.endswith(\".wav\")]\n",
    "\n",
    "# Create an empty array to store the audio data\n",
    "audio_data_array = []\n",
    "\n",
    "# Loop through each .wav file and read its contents\n",
    "for file in wav_files:\n",
    "    file_path = os.path.join(folder_path, file)  # Construct the full file path\n",
    "\n",
    "    # Open the .wav file\n",
    "    with wave.open(file_path, \"rb\") as wav_file:\n",
    "        # Read the audio data from the .wav file\n",
    "        audio_data = wav_file.readframes(wav_file.getnframes())\n",
    "        \n",
    "        # Convert the audio data to a NumPy array\n",
    "        audio_data_np = np.frombuffer(audio_data, dtype=np.int16)\n",
    "        \n",
    "        # Append the audio data array to the main array\n",
    "        audio_data_array.append(audio_data_np)\n",
    "\n",
    "# Convert the array to a NumPy array for easier manipulation (optional)\n",
    "audio_data_array = np.array(audio_data_array)\n",
    "\n",
    "# Print the shape of the audio data array\n",
    "print(f\"Shape of audio data array: {audio_data_array.shape}\")\n"
   ]
  },
  {
   "cell_type": "code",
   "execution_count": 3,
   "metadata": {},
   "outputs": [],
   "source": [
    "audio_data_array = np.array(audio_data_array)\n",
    "\n",
    "for i in range(len(audio_data_array)):\n",
    "    padding_columns = 80080 - len(audio_data_array[i])\n",
    "    audio_data_array[i] = np.array(audio_data_array[i])\n",
    "    padded_row = np.pad(audio_data_array[i], (0, 80080 - len(audio_data_array[i]) ), mode='constant')\n",
    "    audio_data_array[i] = padded_row\n"
   ]
  },
  {
   "cell_type": "code",
   "execution_count": 4,
   "metadata": {},
   "outputs": [],
   "source": [
    "import os\n",
    "\n",
    "folder_path = 'Crema'  # Path to the folder 'Crema'\n",
    "\n",
    "# Get the list of file names in the folder\n",
    "file_names = os.listdir(folder_path)\n",
    "\n",
    "y=[]\n",
    "for file_name in file_names:\n",
    "    y.append(file_name.split('_')[2])\n",
    "\n"
   ]
  },
  {
   "cell_type": "code",
   "execution_count": 5,
   "metadata": {},
   "outputs": [],
   "source": [
    "y_float = np.zeros((7442, 1), dtype=float)\n",
    "\n",
    "for i in range(len(y)):\n",
    "    if y[i] == 'ANG':\n",
    "        y_float[i]=0\n",
    "    elif y[i] == 'DIS':\n",
    "        y_float[i]=1\n",
    "    elif y[i] == 'FEA':\n",
    "        y_float[i]=2\n",
    "    elif y[i] == 'HAP':\n",
    "        y_float[i]=3\n",
    "    elif y[i] == 'NEU':\n",
    "        y_float[i]=4\n",
    "    elif y[i] == 'SAD':\n",
    "        y_float[i]=5\n"
   ]
  },
  {
   "cell_type": "code",
   "execution_count": 6,
   "metadata": {},
   "outputs": [],
   "source": [
    "def calculate_energy(signal, total_outputs):\n",
    "    frame_size = len(signal) // total_outputs  # Adjust frame size based on desired outputs\n",
    "    energy = []\n",
    "    \n",
    "    for i in range(0, len(signal), frame_size):\n",
    "        frame = signal[i:i+frame_size]\n",
    "        frame_energy = np.sum(frame**2)  # Calculate energy of frame\n",
    "        energy.append(frame_energy)\n",
    "    \n",
    "    return energy\n",
    "\n",
    "import numpy as np\n",
    "\n",
    "def calculate_zcr(signal, total_outputs):\n",
    "    signal_length = len(signal)\n",
    "    frame_size = signal_length // total_outputs\n",
    "    \n",
    "    zcr = np.zeros(total_outputs)\n",
    "    \n",
    "    for i in range(total_outputs):\n",
    "        start = i * frame_size\n",
    "        end = start + frame_size\n",
    "        \n",
    "        frame = signal[start:end]\n",
    "        crossings = np.sum(np.diff(np.sign(frame)) != 0)\n",
    "        zcr[i] = crossings / frame_size\n",
    "    \n",
    "    return zcr\n",
    "\n",
    "\n"
   ]
  },
  {
   "cell_type": "code",
   "execution_count": 113,
   "metadata": {},
   "outputs": [
    {
     "name": "stdout",
     "output_type": "stream",
     "text": [
      "(7442, 500)\n"
     ]
    }
   ],
   "source": [
    "numfeatures = 500\n",
    "zcr_matrix = np.empty((0, numfeatures)) \n",
    "for i in range(len(audio_data_array)):\n",
    "    x= calculate_zcr(audio_data_array[i], numfeatures)\n",
    "    zcr_matrix = np.vstack((zcr_matrix, x))\n",
    "print(zcr_matrix.shape)"
   ]
  },
  {
   "cell_type": "code",
   "execution_count": 114,
   "metadata": {},
   "outputs": [
    {
     "name": "stdout",
     "output_type": "stream",
     "text": [
      "(7442, 500)\n"
     ]
    }
   ],
   "source": [
    "#drop last column of energy matrix\n",
    "print(zcr_matrix.shape)"
   ]
  },
  {
   "cell_type": "code",
   "execution_count": 115,
   "metadata": {},
   "outputs": [
    {
     "name": "stdout",
     "output_type": "stream",
     "text": [
      "(5209, 500)\n",
      "(261, 500)\n",
      "(2233, 500)\n"
     ]
    }
   ],
   "source": [
    "#split data into train and test and validation sets with 70%, 25%, 5% with stratify\n",
    "from sklearn.model_selection import train_test_split\n",
    "X_train, X_test, y_train, y_test = train_test_split(zcr_matrix, y_float, test_size=0.3, random_state=42, stratify=y_float)\n",
    "#X_test, X_val, y_test, y_val = train_test_split(X_test, y_test, test_size=0.1667, random_state=42, stratify=y_test)\n",
    "X_train_rest, X_val, y_train_rest, y_val = train_test_split(X_train, y_train, test_size=0.05, random_state=42, stratify=y_train)\n",
    "print(X_train.shape)\n",
    "print(X_val.shape)\n",
    "print(X_test.shape)\n"
   ]
  },
  {
   "cell_type": "code",
   "execution_count": 123,
   "metadata": {},
   "outputs": [
    {
     "name": "stdout",
     "output_type": "stream",
     "text": [
      "Epoch 1/20\n",
      "163/163 [==============================] - 11s 57ms/step - loss: 1.7523 - accuracy: 0.2384\n",
      "Epoch 2/20\n",
      "163/163 [==============================] - 9s 56ms/step - loss: 1.5907 - accuracy: 0.3431\n",
      "Epoch 3/20\n",
      "163/163 [==============================] - 10s 58ms/step - loss: 1.5566 - accuracy: 0.3611\n",
      "Epoch 4/20\n",
      "163/163 [==============================] - 11s 65ms/step - loss: 1.5181 - accuracy: 0.3813\n",
      "Epoch 5/20\n",
      "163/163 [==============================] - 10s 63ms/step - loss: 1.4873 - accuracy: 0.3989\n",
      "Epoch 6/20\n",
      "163/163 [==============================] - 10s 63ms/step - loss: 1.4723 - accuracy: 0.4053\n",
      "Epoch 7/20\n",
      "163/163 [==============================] - 10s 63ms/step - loss: 1.4620 - accuracy: 0.4087\n",
      "Epoch 8/20\n",
      "163/163 [==============================] - 10s 64ms/step - loss: 1.4263 - accuracy: 0.4250\n",
      "Epoch 9/20\n",
      "163/163 [==============================] - 10s 63ms/step - loss: 1.4212 - accuracy: 0.4225\n",
      "Epoch 10/20\n",
      "163/163 [==============================] - 10s 64ms/step - loss: 1.4043 - accuracy: 0.4366\n",
      "Epoch 11/20\n",
      "163/163 [==============================] - 10s 62ms/step - loss: 1.3719 - accuracy: 0.4446\n",
      "Epoch 12/20\n",
      "163/163 [==============================] - 10s 62ms/step - loss: 1.3597 - accuracy: 0.4515\n",
      "Epoch 13/20\n",
      "163/163 [==============================] - 11s 64ms/step - loss: 1.3177 - accuracy: 0.4686\n",
      "Epoch 14/20\n",
      "163/163 [==============================] - 11s 65ms/step - loss: 1.3079 - accuracy: 0.4769\n",
      "Epoch 15/20\n",
      "163/163 [==============================] - 11s 65ms/step - loss: 1.2771 - accuracy: 0.4907\n",
      "Epoch 16/20\n",
      "163/163 [==============================] - 10s 64ms/step - loss: 1.2343 - accuracy: 0.5051\n",
      "Epoch 17/20\n",
      "163/163 [==============================] - 10s 64ms/step - loss: 1.2207 - accuracy: 0.5174\n",
      "Epoch 18/20\n",
      "163/163 [==============================] - 10s 64ms/step - loss: 1.1697 - accuracy: 0.5412\n",
      "Epoch 19/20\n",
      "163/163 [==============================] - 11s 65ms/step - loss: 1.1741 - accuracy: 0.5406\n",
      "Epoch 20/20\n",
      "163/163 [==============================] - 10s 64ms/step - loss: 1.1141 - accuracy: 0.5665\n",
      "9/9 [==============================] - 0s 14ms/step - loss: 1.0590 - accuracy: 0.5747\n",
      "9/9 [==============================] - 0s 13ms/step\n",
      "Loss: 1.0590465068817139\n",
      "Accuracy: 0.5747126340866089\n",
      "70/70 [==============================] - 1s 19ms/step - loss: 1.5662 - accuracy: 0.4124\n",
      "70/70 [==============================] - 1s 18ms/step\n",
      "Loss: 1.5662463903427124\n",
      "Accuracy: 0.4124496281147003\n",
      "F1 Score: 0.4005426514492265\n"
     ]
    }
   ],
   "source": [
    "import tensorflow as tf\n",
    "\n",
    "# Create the CNN model\n",
    "model = tf.keras.models.Sequential()\n",
    "model.add(tf.keras.layers.Conv1D(filters=64, kernel_size=10, activation='relu', input_shape=(numfeatures, 1)))\n",
    "model.add(tf.keras.layers.MaxPooling1D(pool_size=5, strides=2))\n",
    "model.add(tf.keras.layers.Conv1D(filters=64, kernel_size=10, activation='relu', input_shape=(numfeatures, 1)))\n",
    "model.add(tf.keras.layers.MaxPooling1D(pool_size=3, strides=2))\n",
    "model.add(tf.keras.layers.Conv1D(filters=64, kernel_size=5, activation='relu', input_shape=(numfeatures, 1)))\n",
    "model.add(tf.keras.layers.MaxPooling1D(pool_size=3, strides=2))\n",
    "model.add(tf.keras.layers.Conv1D(filters=64, kernel_size=5, activation='relu', input_shape=(numfeatures, 1)))\n",
    "model.add(tf.keras.layers.MaxPooling1D(pool_size=3, strides=2))\n",
    "model.add(tf.keras.layers.Conv1D(filters=64, kernel_size=5, activation='relu', input_shape=(numfeatures, 1)))\n",
    "model.add(tf.keras.layers.MaxPooling1D(pool_size=3, strides=2))\n",
    "model.add(tf.keras.layers.Flatten())\n",
    "model.add(tf.keras.layers.Dense(units=6, activation='softmax'))\n",
    "# Compile the model\n",
    "optimizer = tf.keras.optimizers.Adam(learning_rate=0.00039)\n",
    "model.compile(optimizer='adam', loss='sparse_categorical_crossentropy', metrics=['accuracy'])\n",
    "model.fit(X_train, y_train, epochs=20)\n",
    "#evaluate validation set\n",
    "loss, accuracy = model.evaluate(X_val, y_val)\n",
    "predictions = model.predict(X_val)\n",
    "print(\"Loss:\", loss)\n",
    "print(\"Accuracy:\", accuracy)\n",
    "\n",
    "\n",
    "\n",
    "# Evaluate the model\n",
    "loss, accuracy = model.evaluate(X_test, y_test)\n",
    "predictions = model.predict(X_test)\n",
    "print(\"Loss:\", loss)\n",
    "print(\"Accuracy:\", accuracy)\n",
    "\n",
    "\n",
    "# Calculate the F1 score\n",
    "from sklearn.metrics import f1_score\n",
    "y_pred = np.argmax(predictions, axis=1)\n",
    "y_true = np.argmax(y_test, axis=1)\n",
    "f1score = f1_score(y_test, y_pred, average='weighted')\n",
    "print('F1 Score:', f1score)\n"
   ]
  },
  {
   "cell_type": "code",
   "execution_count": 117,
   "metadata": {},
   "outputs": [
    {
     "data": {
      "image/png": "[encoded data removed]",
      "text/plain": [
       "<Figure size 1000x800 with 2 Axes>"
      ]
     },
     "metadata": {},
     "output_type": "display_data"
    }
   ],
   "source": [
    "import matplotlib.pyplot as plt\n",
    "import seaborn as sns\n",
    "from sklearn.metrics import confusion_matrix\n",
    "\n",
    "# Assuming you have predictions and true labels stored in 'y_pred' and 'y_true' variables\n",
    "\n",
    "# Compute the confusion matrix\n",
    "cm = confusion_matrix(y_test, y_pred)\n",
    "\n",
    "# Define class labels (if applicable)\n",
    "class_labels = ['ANG', 'DIS', 'FEA','HAP','NEU','SAD']\n",
    "\n",
    "# Create a heatmap of the confusion matrix\n",
    "plt.figure(figsize=(10, 8))\n",
    "sns.heatmap(cm, annot=True, fmt='d', cmap='Blues', xticklabels=class_labels, yticklabels=class_labels)\n",
    "\n",
    "# Add labels and title\n",
    "plt.xlabel('Predicted')\n",
    "plt.ylabel('True')\n",
    "plt.title('Confusion Matrix')\n",
    "\n",
    "# Show the plot\n",
    "plt.show()\n"
   ]
  },
  {
   "cell_type": "code",
   "execution_count": null,
   "metadata": {},
   "outputs": [],
   "source": []
  }
 ],
 "metadata": {
  "kernelspec": {
   "display_name": "Python 3",
   "language": "python",
   "name": "python3"
  },
  "language_info": {
   "codemirror_mode": {
    "name": "ipython",
    "version": 3
   },
   "file_extension": ".py",
   "mimetype": "text/x-python",
   "name": "python",
   "nbconvert_exporter": "python",
   "pygments_lexer": "ipython3",
   "version": "3.10.3"
  },
  "orig_nbformat": 4,
  "vscode": {
   "interpreter": {
    "hash": "26de051ba29f2982a8de78e945f0abaf191376122a1563185a90213a26c5da77"
   }
  }
 },
 "nbformat": 4,
 "nbformat_minor": 2
}
